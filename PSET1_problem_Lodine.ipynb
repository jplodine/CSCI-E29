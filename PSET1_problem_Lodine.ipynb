{
 "cells": [
  {
   "cell_type": "markdown",
   "metadata": {},
   "source": [
    "Mr. Wensleydale's cheese shop is unusually well stocked today -- he has both Emmentaler and Jarlsberg cheese available. Between the two varieties, there are a total of 20 wheels of cheese. Curiously, each variety comes in perfectly uniform wheels, but the two varieties have different numbers of holes per wheel: there are 200 holes in each wheel of Emmentaler, and 150 in each wheel of Jarlsberg. There are 3400 holes in the entire inventory. Use numpy to determine how many wheels of each variety are available.\n",
    "\n",
    "Hint: we can express the above using a system of linear equations. Using the variables e and j to indicate the counts of the two varieties, we can write these two equations:\n",
    "\n",
    "$$e + j = 20$$\n",
    "$$200e + 150j = 3400$$\n",
    "\n",
    "We can express the coefficients and results of these equations using the following matrices:\n",
    "\n",
    "\\begin{equation*}\n",
    "A = \\begin{vmatrix} 1 & 1 \\\\ 200 & 150 \\\\ \\end{vmatrix}, \\hspace{5mm} \n",
    "x = \\begin{vmatrix} e \\\\ j \\\\ \\end{vmatrix},\\hspace{5mm}\n",
    "B = \\begin{vmatrix}\n",
    "20 \\\\\n",
    "3400 \\\\\n",
    "\\end{vmatrix}\n",
    "\\end{equation*}\n",
    "\n",
    "and the matrix equation: $$Ax=B$$\n",
    "\n",
    "Solving this for the vector x by taking the inverse of matrix A gives: $$x = A^{-1}B$$\n",
    "\n",
    "You can use numpy's **array** class to express these matrices. Numpy's linear algebra module *linalg* includes the **inv** function for finding the inverse of a matrix, and the **dot** method for multiplying two matrices. (There is also a **solve** function for solving systems of equations directly.)"
   ]
  },
  {
   "cell_type": "code",
   "execution_count": 18,
   "metadata": {},
   "outputs": [
    {
     "name": "stdout",
     "output_type": "stream",
     "text": [
      "There are 8 wheels of Emmentaler in the shop.\n"
     ]
    }
   ],
   "source": [
    "# One possible solution, using numpy.linalg.inv to get the matrix inverse:\n",
    "# (We could also solve this using numpy.linalg.solve directly.)\n",
    "\n",
    "import numpy as np\n",
    "\n",
    "# Express the linear equations as matrices.\n",
    "A = np.array([[1, 1], [200, 150]])\n",
    "B = np.array([20,3400])\n",
    "\n",
    "# Get the inverse of matrix A and multiply it by the results matrix.\n",
    "A_inverse = np.linalg.inv(A)\n",
    "(e,j) = A_inverse.dot(B)\n",
    "\n",
    "print(\"There are {} wheels of Emmentaler in the shop.\".format(int(e)))"
   ]
  },
  {
   "cell_type": "code",
   "execution_count": null,
   "metadata": {},
   "outputs": [],
   "source": []
  }
 ],
 "metadata": {
  "kernelspec": {
   "display_name": "Python 3",
   "language": "python",
   "name": "python3"
  },
  "language_info": {
   "codemirror_mode": {
    "name": "ipython",
    "version": 3
   },
   "file_extension": ".py",
   "mimetype": "text/x-python",
   "name": "python",
   "nbconvert_exporter": "python",
   "pygments_lexer": "ipython3",
   "version": "3.6.0"
  }
 },
 "nbformat": 4,
 "nbformat_minor": 2
}
